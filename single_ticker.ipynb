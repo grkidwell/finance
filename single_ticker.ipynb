{
 "cells": [
  {
   "cell_type": "code",
   "execution_count": 2,
   "metadata": {},
   "outputs": [],
   "source": [
    "import pandas as pd\n",
    "import investment"
   ]
  },
  {
   "cell_type": "code",
   "execution_count": 3,
   "metadata": {},
   "outputs": [
    {
     "name": "stdout",
     "output_type": "stream",
     "text": [
      "[*********************100%***********************]  1 of 1 completed\n"
     ]
    }
   ],
   "source": [
    "stock=investment.Investment(\"aapl\",start=\"1990-12-01\", end=\"2019-08-01\",drip=True)"
   ]
  },
  {
   "cell_type": "code",
   "execution_count": 4,
   "metadata": {},
   "outputs": [
    {
     "data": {
      "text/html": [
       "<div>\n",
       "<style scoped>\n",
       "    .dataframe tbody tr th:only-of-type {\n",
       "        vertical-align: middle;\n",
       "    }\n",
       "\n",
       "    .dataframe tbody tr th {\n",
       "        vertical-align: top;\n",
       "    }\n",
       "\n",
       "    .dataframe thead th {\n",
       "        text-align: right;\n",
       "    }\n",
       "</style>\n",
       "<table border=\"1\" class=\"dataframe\">\n",
       "  <thead>\n",
       "    <tr style=\"text-align: right;\">\n",
       "      <th></th>\n",
       "      <th>Close</th>\n",
       "      <th>Dividends</th>\n",
       "      <th>Stock Splits</th>\n",
       "      <th>Split Multiplier</th>\n",
       "      <th>True Close</th>\n",
       "      <th>cash</th>\n",
       "      <th>shares</th>\n",
       "      <th>balance</th>\n",
       "    </tr>\n",
       "    <tr>\n",
       "      <th>Date</th>\n",
       "      <th></th>\n",
       "      <th></th>\n",
       "      <th></th>\n",
       "      <th></th>\n",
       "      <th></th>\n",
       "      <th></th>\n",
       "      <th></th>\n",
       "      <th></th>\n",
       "    </tr>\n",
       "  </thead>\n",
       "  <tbody>\n",
       "    <tr>\n",
       "      <th>1990-12-01</th>\n",
       "      <td>1.535714</td>\n",
       "      <td>0.00000</td>\n",
       "      <td>0.0</td>\n",
       "      <td>28.0</td>\n",
       "      <td>43.000000</td>\n",
       "      <td>0</td>\n",
       "      <td>23.255814</td>\n",
       "      <td>1000.000000</td>\n",
       "    </tr>\n",
       "    <tr>\n",
       "      <th>1991-01-01</th>\n",
       "      <td>1.982143</td>\n",
       "      <td>0.00000</td>\n",
       "      <td>0.0</td>\n",
       "      <td>28.0</td>\n",
       "      <td>55.499999</td>\n",
       "      <td>0</td>\n",
       "      <td>23.255814</td>\n",
       "      <td>1290.697655</td>\n",
       "    </tr>\n",
       "    <tr>\n",
       "      <th>1991-02-01</th>\n",
       "      <td>2.044643</td>\n",
       "      <td>0.00000</td>\n",
       "      <td>0.0</td>\n",
       "      <td>28.0</td>\n",
       "      <td>57.250002</td>\n",
       "      <td>0</td>\n",
       "      <td>23.255814</td>\n",
       "      <td>1331.395408</td>\n",
       "    </tr>\n",
       "    <tr>\n",
       "      <th>1991-02-15</th>\n",
       "      <td>2.236607</td>\n",
       "      <td>0.00429</td>\n",
       "      <td>0.0</td>\n",
       "      <td>28.0</td>\n",
       "      <td>62.625001</td>\n",
       "      <td>0</td>\n",
       "      <td>23.257407</td>\n",
       "      <td>1456.495166</td>\n",
       "    </tr>\n",
       "    <tr>\n",
       "      <th>1991-03-01</th>\n",
       "      <td>2.428571</td>\n",
       "      <td>0.00000</td>\n",
       "      <td>0.0</td>\n",
       "      <td>28.0</td>\n",
       "      <td>68.000001</td>\n",
       "      <td>0</td>\n",
       "      <td>23.257407</td>\n",
       "      <td>1581.503719</td>\n",
       "    </tr>\n",
       "    <tr>\n",
       "      <th>...</th>\n",
       "      <td>...</td>\n",
       "      <td>...</td>\n",
       "      <td>...</td>\n",
       "      <td>...</td>\n",
       "      <td>...</td>\n",
       "      <td>...</td>\n",
       "      <td>...</td>\n",
       "      <td>...</td>\n",
       "    </tr>\n",
       "    <tr>\n",
       "      <th>2019-05-01</th>\n",
       "      <td>175.070007</td>\n",
       "      <td>0.00000</td>\n",
       "      <td>0.0</td>\n",
       "      <td>1.0</td>\n",
       "      <td>175.070007</td>\n",
       "      <td>0</td>\n",
       "      <td>712.560633</td>\n",
       "      <td>124747.995257</td>\n",
       "    </tr>\n",
       "    <tr>\n",
       "      <th>2019-05-10</th>\n",
       "      <td>181.703876</td>\n",
       "      <td>0.77000</td>\n",
       "      <td>0.0</td>\n",
       "      <td>1.0</td>\n",
       "      <td>181.703876</td>\n",
       "      <td>0</td>\n",
       "      <td>715.580226</td>\n",
       "      <td>130023.700347</td>\n",
       "    </tr>\n",
       "    <tr>\n",
       "      <th>2019-06-01</th>\n",
       "      <td>197.919998</td>\n",
       "      <td>0.00000</td>\n",
       "      <td>0.0</td>\n",
       "      <td>1.0</td>\n",
       "      <td>197.919998</td>\n",
       "      <td>0</td>\n",
       "      <td>715.580226</td>\n",
       "      <td>141627.636972</td>\n",
       "    </tr>\n",
       "    <tr>\n",
       "      <th>2019-07-01</th>\n",
       "      <td>213.039993</td>\n",
       "      <td>0.00000</td>\n",
       "      <td>0.0</td>\n",
       "      <td>1.0</td>\n",
       "      <td>213.039993</td>\n",
       "      <td>0</td>\n",
       "      <td>715.580226</td>\n",
       "      <td>152447.206491</td>\n",
       "    </tr>\n",
       "    <tr>\n",
       "      <th>2019-08-01</th>\n",
       "      <td>208.740005</td>\n",
       "      <td>0.00000</td>\n",
       "      <td>0.0</td>\n",
       "      <td>1.0</td>\n",
       "      <td>208.740005</td>\n",
       "      <td>0</td>\n",
       "      <td>715.580226</td>\n",
       "      <td>149370.220255</td>\n",
       "    </tr>\n",
       "  </tbody>\n",
       "</table>\n",
       "<p>396 rows × 8 columns</p>\n",
       "</div>"
      ],
      "text/plain": [
       "                 Close  Dividends  Stock Splits  Split Multiplier  True Close  \\\n",
       "Date                                                                            \n",
       "1990-12-01    1.535714    0.00000           0.0              28.0   43.000000   \n",
       "1991-01-01    1.982143    0.00000           0.0              28.0   55.499999   \n",
       "1991-02-01    2.044643    0.00000           0.0              28.0   57.250002   \n",
       "1991-02-15    2.236607    0.00429           0.0              28.0   62.625001   \n",
       "1991-03-01    2.428571    0.00000           0.0              28.0   68.000001   \n",
       "...                ...        ...           ...               ...         ...   \n",
       "2019-05-01  175.070007    0.00000           0.0               1.0  175.070007   \n",
       "2019-05-10  181.703876    0.77000           0.0               1.0  181.703876   \n",
       "2019-06-01  197.919998    0.00000           0.0               1.0  197.919998   \n",
       "2019-07-01  213.039993    0.00000           0.0               1.0  213.039993   \n",
       "2019-08-01  208.740005    0.00000           0.0               1.0  208.740005   \n",
       "\n",
       "            cash      shares        balance  \n",
       "Date                                         \n",
       "1990-12-01     0   23.255814    1000.000000  \n",
       "1991-01-01     0   23.255814    1290.697655  \n",
       "1991-02-01     0   23.255814    1331.395408  \n",
       "1991-02-15     0   23.257407    1456.495166  \n",
       "1991-03-01     0   23.257407    1581.503719  \n",
       "...          ...         ...            ...  \n",
       "2019-05-01     0  712.560633  124747.995257  \n",
       "2019-05-10     0  715.580226  130023.700347  \n",
       "2019-06-01     0  715.580226  141627.636972  \n",
       "2019-07-01     0  715.580226  152447.206491  \n",
       "2019-08-01     0  715.580226  149370.220255  \n",
       "\n",
       "[396 rows x 8 columns]"
      ]
     },
     "execution_count": 4,
     "metadata": {},
     "output_type": "execute_result"
    }
   ],
   "source": [
    "stock.investment_data"
   ]
  },
  {
   "cell_type": "code",
   "execution_count": 5,
   "metadata": {},
   "outputs": [
    {
     "data": {
      "text/html": [
       "<div>\n",
       "<style scoped>\n",
       "    .dataframe tbody tr th:only-of-type {\n",
       "        vertical-align: middle;\n",
       "    }\n",
       "\n",
       "    .dataframe tbody tr th {\n",
       "        vertical-align: top;\n",
       "    }\n",
       "\n",
       "    .dataframe thead th {\n",
       "        text-align: right;\n",
       "    }\n",
       "</style>\n",
       "<table border=\"1\" class=\"dataframe\">\n",
       "  <thead>\n",
       "    <tr style=\"text-align: right;\">\n",
       "      <th></th>\n",
       "      <th>symbol</th>\n",
       "      <th>start date</th>\n",
       "      <th>end date</th>\n",
       "      <th>gain</th>\n",
       "      <th>annualized return</th>\n",
       "    </tr>\n",
       "  </thead>\n",
       "  <tbody>\n",
       "    <tr>\n",
       "      <th>0</th>\n",
       "      <td>aapl</td>\n",
       "      <td>1990-12-01</td>\n",
       "      <td>2019-08-01</td>\n",
       "      <td>149.37022</td>\n",
       "      <td>0.190688</td>\n",
       "    </tr>\n",
       "  </tbody>\n",
       "</table>\n",
       "</div>"
      ],
      "text/plain": [
       "  symbol  start date    end date       gain  annualized return\n",
       "0   aapl  1990-12-01  2019-08-01  149.37022           0.190688"
      ]
     },
     "execution_count": 5,
     "metadata": {},
     "output_type": "execute_result"
    }
   ],
   "source": [
    "stock.summary"
   ]
  },
  {
   "cell_type": "code",
   "execution_count": 6,
   "metadata": {},
   "outputs": [
    {
     "data": {
      "text/html": [
       "<div>\n",
       "<style scoped>\n",
       "    .dataframe tbody tr th:only-of-type {\n",
       "        vertical-align: middle;\n",
       "    }\n",
       "\n",
       "    .dataframe tbody tr th {\n",
       "        vertical-align: top;\n",
       "    }\n",
       "\n",
       "    .dataframe thead th {\n",
       "        text-align: right;\n",
       "    }\n",
       "</style>\n",
       "<table border=\"1\" class=\"dataframe\">\n",
       "  <thead>\n",
       "    <tr style=\"text-align: right;\">\n",
       "      <th></th>\n",
       "      <th>Close</th>\n",
       "      <th>Dividends</th>\n",
       "      <th>Stock Splits</th>\n",
       "      <th>Split Multiplier</th>\n",
       "      <th>True Close</th>\n",
       "      <th>cash</th>\n",
       "      <th>shares</th>\n",
       "      <th>balance</th>\n",
       "    </tr>\n",
       "    <tr>\n",
       "      <th>Date</th>\n",
       "      <th></th>\n",
       "      <th></th>\n",
       "      <th></th>\n",
       "      <th></th>\n",
       "      <th></th>\n",
       "      <th></th>\n",
       "      <th></th>\n",
       "      <th></th>\n",
       "    </tr>\n",
       "  </thead>\n",
       "  <tbody>\n",
       "    <tr>\n",
       "      <th>1991-02-15</th>\n",
       "      <td>2.236607</td>\n",
       "      <td>0.00429</td>\n",
       "      <td>0.0</td>\n",
       "      <td>28.0</td>\n",
       "      <td>62.625001</td>\n",
       "      <td>0</td>\n",
       "      <td>23.257407</td>\n",
       "      <td>1456.495166</td>\n",
       "    </tr>\n",
       "    <tr>\n",
       "      <th>1991-05-20</th>\n",
       "      <td>1.558180</td>\n",
       "      <td>0.00429</td>\n",
       "      <td>0.0</td>\n",
       "      <td>28.0</td>\n",
       "      <td>43.629032</td>\n",
       "      <td>0</td>\n",
       "      <td>23.259694</td>\n",
       "      <td>1014.797936</td>\n",
       "    </tr>\n",
       "    <tr>\n",
       "      <th>1991-08-19</th>\n",
       "      <td>1.820277</td>\n",
       "      <td>0.00429</td>\n",
       "      <td>0.0</td>\n",
       "      <td>28.0</td>\n",
       "      <td>50.967743</td>\n",
       "      <td>0</td>\n",
       "      <td>23.261652</td>\n",
       "      <td>1185.593908</td>\n",
       "    </tr>\n",
       "    <tr>\n",
       "      <th>1991-11-18</th>\n",
       "      <td>1.926339</td>\n",
       "      <td>0.00429</td>\n",
       "      <td>0.0</td>\n",
       "      <td>28.0</td>\n",
       "      <td>53.937501</td>\n",
       "      <td>0</td>\n",
       "      <td>23.263502</td>\n",
       "      <td>1254.775171</td>\n",
       "    </tr>\n",
       "    <tr>\n",
       "      <th>1992-02-14</th>\n",
       "      <td>2.262623</td>\n",
       "      <td>0.00429</td>\n",
       "      <td>0.0</td>\n",
       "      <td>28.0</td>\n",
       "      <td>63.353449</td>\n",
       "      <td>0</td>\n",
       "      <td>23.265077</td>\n",
       "      <td>1473.922896</td>\n",
       "    </tr>\n",
       "  </tbody>\n",
       "</table>\n",
       "</div>"
      ],
      "text/plain": [
       "               Close  Dividends  Stock Splits  Split Multiplier  True Close  \\\n",
       "Date                                                                          \n",
       "1991-02-15  2.236607    0.00429           0.0              28.0   62.625001   \n",
       "1991-05-20  1.558180    0.00429           0.0              28.0   43.629032   \n",
       "1991-08-19  1.820277    0.00429           0.0              28.0   50.967743   \n",
       "1991-11-18  1.926339    0.00429           0.0              28.0   53.937501   \n",
       "1992-02-14  2.262623    0.00429           0.0              28.0   63.353449   \n",
       "\n",
       "            cash     shares      balance  \n",
       "Date                                      \n",
       "1991-02-15     0  23.257407  1456.495166  \n",
       "1991-05-20     0  23.259694  1014.797936  \n",
       "1991-08-19     0  23.261652  1185.593908  \n",
       "1991-11-18     0  23.263502  1254.775171  \n",
       "1992-02-14     0  23.265077  1473.922896  "
      ]
     },
     "execution_count": 6,
     "metadata": {},
     "output_type": "execute_result"
    }
   ],
   "source": [
    "stock.investment_data[stock.investment_data['Dividends']>0].head()"
   ]
  },
  {
   "cell_type": "code",
   "execution_count": 7,
   "metadata": {},
   "outputs": [
    {
     "data": {
      "text/plain": [
       "<matplotlib.axes._subplots.AxesSubplot at 0x7f85f66e1080>"
      ]
     },
     "execution_count": 7,
     "metadata": {},
     "output_type": "execute_result"
    },
    {
     "data": {
      "image/png": "[encoded data removed]",
      "text/plain": [
       "<Figure size 432x288 with 1 Axes>"
      ]
     },
     "metadata": {
      "needs_background": "light"
     },
     "output_type": "display_data"
    }
   ],
   "source": [
    "stock.investment_data[['True Close']].plot()"
   ]
  },
  {
   "cell_type": "code",
   "execution_count": 8,
   "metadata": {},
   "outputs": [
    {
     "data": {
      "text/plain": [
       "<matplotlib.axes._subplots.AxesSubplot at 0x7f85f57d3470>"
      ]
     },
     "execution_count": 8,
     "metadata": {},
     "output_type": "execute_result"
    },
    {
     "data": {
      "image/png": "[encoded data removed]",
      "text/plain": [
       "<Figure size 432x288 with 1 Axes>"
      ]
     },
     "metadata": {
      "needs_background": "light"
     },
     "output_type": "display_data"
    }
   ],
   "source": [
    "stock.investment_data[['Close']].plot()"
   ]
  },
  {
   "cell_type": "code",
   "execution_count": 9,
   "metadata": {},
   "outputs": [
    {
     "data": {
      "text/plain": [
       "<matplotlib.axes._subplots.AxesSubplot at 0x7f85f574cc18>"
      ]
     },
     "execution_count": 9,
     "metadata": {},
     "output_type": "execute_result"
    },
    {
     "data": {
      "image/png": "[encoded data removed]",
      "text/plain": [
       "<Figure size 432x288 with 1 Axes>"
      ]
     },
     "metadata": {
      "needs_background": "light"
     },
     "output_type": "display_data"
    }
   ],
   "source": [
    "stock.investment_data[['balance']].plot()"
   ]
  },
  {
   "cell_type": "code",
   "execution_count": 10,
   "metadata": {},
   "outputs": [
    {
     "data": {
      "text/plain": [
       "<matplotlib.axes._subplots.AxesSubplot at 0x7f85f56c9b00>"
      ]
     },
     "execution_count": 10,
     "metadata": {},
     "output_type": "execute_result"
    },
    {
     "data": {
      "image/png": "[encoded data removed]",
      "text/plain": [
       "<Figure size 432x288 with 1 Axes>"
      ]
     },
     "metadata": {
      "needs_background": "light"
     },
     "output_type": "display_data"
    }
   ],
   "source": [
    "stock.investment_data[['shares']].plot()"
   ]
  },
  {
   "cell_type": "code",
   "execution_count": null,
   "metadata": {},
   "outputs": [],
   "source": []
  }
 ],
 "metadata": {
  "kernelspec": {
   "display_name": "Python 3",
   "language": "python",
   "name": "python3"
  },
  "language_info": {
   "codemirror_mode": {
    "name": "ipython",
    "version": 3
   },
   "file_extension": ".py",
   "mimetype": "text/x-python",
   "name": "python",
   "nbconvert_exporter": "python",
   "pygments_lexer": "ipython3",
   "version": "3.7.3"
  }
 },
 "nbformat": 4,
 "nbformat_minor": 4
}
