{
 "cells": [
  {
   "cell_type": "code",
   "execution_count": 3,
   "metadata": {},
   "outputs": [],
   "source": [
    "import pandas as pd\n",
    "import investment"
   ]
  },
  {
   "cell_type": "code",
   "execution_count": 4,
   "metadata": {},
   "outputs": [
    {
     "name": "stdout",
     "output_type": "stream",
     "text": [
      "[*********************100%***********************]  1 of 1 completed\n"
     ]
    }
   ],
   "source": [
    "stock=investment.Investment(\"aapl\",start=\"2006-12-01\", end=\"2019-08-01\",drip=True)"
   ]
  },
  {
   "cell_type": "code",
   "execution_count": 5,
   "metadata": {},
   "outputs": [
    {
     "data": {
      "text/html": [
       "<div>\n",
       "<style scoped>\n",
       "    .dataframe tbody tr th:only-of-type {\n",
       "        vertical-align: middle;\n",
       "    }\n",
       "\n",
       "    .dataframe tbody tr th {\n",
       "        vertical-align: top;\n",
       "    }\n",
       "\n",
       "    .dataframe thead th {\n",
       "        text-align: right;\n",
       "    }\n",
       "</style>\n",
       "<table border=\"1\" class=\"dataframe\">\n",
       "  <thead>\n",
       "    <tr style=\"text-align: right;\">\n",
       "      <th></th>\n",
       "      <th>Close</th>\n",
       "      <th>Dividends</th>\n",
       "      <th>cash</th>\n",
       "      <th>shares</th>\n",
       "      <th>balance</th>\n",
       "    </tr>\n",
       "    <tr>\n",
       "      <th>Date</th>\n",
       "      <th></th>\n",
       "      <th></th>\n",
       "      <th></th>\n",
       "      <th></th>\n",
       "      <th></th>\n",
       "    </tr>\n",
       "  </thead>\n",
       "  <tbody>\n",
       "    <tr>\n",
       "      <th>2006-12-01</th>\n",
       "      <td>12.120000</td>\n",
       "      <td>0.00</td>\n",
       "      <td>0</td>\n",
       "      <td>82.508252</td>\n",
       "      <td>1000.000000</td>\n",
       "    </tr>\n",
       "    <tr>\n",
       "      <th>2007-01-01</th>\n",
       "      <td>12.247143</td>\n",
       "      <td>0.00</td>\n",
       "      <td>0</td>\n",
       "      <td>82.508252</td>\n",
       "      <td>1010.490339</td>\n",
       "    </tr>\n",
       "    <tr>\n",
       "      <th>2007-02-01</th>\n",
       "      <td>12.087143</td>\n",
       "      <td>0.00</td>\n",
       "      <td>0</td>\n",
       "      <td>82.508252</td>\n",
       "      <td>997.289031</td>\n",
       "    </tr>\n",
       "    <tr>\n",
       "      <th>2007-03-01</th>\n",
       "      <td>13.272857</td>\n",
       "      <td>0.00</td>\n",
       "      <td>0</td>\n",
       "      <td>82.508252</td>\n",
       "      <td>1095.120201</td>\n",
       "    </tr>\n",
       "    <tr>\n",
       "      <th>2007-04-01</th>\n",
       "      <td>14.257143</td>\n",
       "      <td>0.00</td>\n",
       "      <td>0</td>\n",
       "      <td>82.508252</td>\n",
       "      <td>1176.331944</td>\n",
       "    </tr>\n",
       "    <tr>\n",
       "      <th>...</th>\n",
       "      <td>...</td>\n",
       "      <td>...</td>\n",
       "      <td>...</td>\n",
       "      <td>...</td>\n",
       "      <td>...</td>\n",
       "    </tr>\n",
       "    <tr>\n",
       "      <th>2019-05-01</th>\n",
       "      <td>175.070007</td>\n",
       "      <td>0.00</td>\n",
       "      <td>0</td>\n",
       "      <td>93.572912</td>\n",
       "      <td>16381.810391</td>\n",
       "    </tr>\n",
       "    <tr>\n",
       "      <th>2019-05-10</th>\n",
       "      <td>181.703876</td>\n",
       "      <td>0.77</td>\n",
       "      <td>0</td>\n",
       "      <td>93.969443</td>\n",
       "      <td>17074.611909</td>\n",
       "    </tr>\n",
       "    <tr>\n",
       "      <th>2019-06-01</th>\n",
       "      <td>197.919998</td>\n",
       "      <td>0.00</td>\n",
       "      <td>0</td>\n",
       "      <td>93.969443</td>\n",
       "      <td>18598.431905</td>\n",
       "    </tr>\n",
       "    <tr>\n",
       "      <th>2019-07-01</th>\n",
       "      <td>213.039993</td>\n",
       "      <td>0.00</td>\n",
       "      <td>0</td>\n",
       "      <td>93.969443</td>\n",
       "      <td>20019.249418</td>\n",
       "    </tr>\n",
       "    <tr>\n",
       "      <th>2019-08-01</th>\n",
       "      <td>208.740005</td>\n",
       "      <td>0.00</td>\n",
       "      <td>0</td>\n",
       "      <td>93.969443</td>\n",
       "      <td>19615.181962</td>\n",
       "    </tr>\n",
       "  </tbody>\n",
       "</table>\n",
       "<p>182 rows × 5 columns</p>\n",
       "</div>"
      ],
      "text/plain": [
       "                 Close  Dividends  cash     shares       balance\n",
       "Date                                                            \n",
       "2006-12-01   12.120000       0.00     0  82.508252   1000.000000\n",
       "2007-01-01   12.247143       0.00     0  82.508252   1010.490339\n",
       "2007-02-01   12.087143       0.00     0  82.508252    997.289031\n",
       "2007-03-01   13.272857       0.00     0  82.508252   1095.120201\n",
       "2007-04-01   14.257143       0.00     0  82.508252   1176.331944\n",
       "...                ...        ...   ...        ...           ...\n",
       "2019-05-01  175.070007       0.00     0  93.572912  16381.810391\n",
       "2019-05-10  181.703876       0.77     0  93.969443  17074.611909\n",
       "2019-06-01  197.919998       0.00     0  93.969443  18598.431905\n",
       "2019-07-01  213.039993       0.00     0  93.969443  20019.249418\n",
       "2019-08-01  208.740005       0.00     0  93.969443  19615.181962\n",
       "\n",
       "[182 rows x 5 columns]"
      ]
     },
     "execution_count": 5,
     "metadata": {},
     "output_type": "execute_result"
    }
   ],
   "source": [
    "stock.investment_data"
   ]
  },
  {
   "cell_type": "code",
   "execution_count": 6,
   "metadata": {},
   "outputs": [
    {
     "data": {
      "text/html": [
       "<div>\n",
       "<style scoped>\n",
       "    .dataframe tbody tr th:only-of-type {\n",
       "        vertical-align: middle;\n",
       "    }\n",
       "\n",
       "    .dataframe tbody tr th {\n",
       "        vertical-align: top;\n",
       "    }\n",
       "\n",
       "    .dataframe thead th {\n",
       "        text-align: right;\n",
       "    }\n",
       "</style>\n",
       "<table border=\"1\" class=\"dataframe\">\n",
       "  <thead>\n",
       "    <tr style=\"text-align: right;\">\n",
       "      <th></th>\n",
       "      <th>symbol</th>\n",
       "      <th>start date</th>\n",
       "      <th>end date</th>\n",
       "      <th>gain</th>\n",
       "      <th>annualized return</th>\n",
       "    </tr>\n",
       "  </thead>\n",
       "  <tbody>\n",
       "    <tr>\n",
       "      <th>0</th>\n",
       "      <td>aapl</td>\n",
       "      <td>2006-12-01</td>\n",
       "      <td>2019-08-01</td>\n",
       "      <td>19.615182</td>\n",
       "      <td>0.264701</td>\n",
       "    </tr>\n",
       "  </tbody>\n",
       "</table>\n",
       "</div>"
      ],
      "text/plain": [
       "  symbol  start date    end date       gain  annualized return\n",
       "0   aapl  2006-12-01  2019-08-01  19.615182           0.264701"
      ]
     },
     "execution_count": 6,
     "metadata": {},
     "output_type": "execute_result"
    }
   ],
   "source": [
    "stock.summary"
   ]
  },
  {
   "cell_type": "code",
   "execution_count": 7,
   "metadata": {},
   "outputs": [
    {
     "data": {
      "text/html": [
       "<div>\n",
       "<style scoped>\n",
       "    .dataframe tbody tr th:only-of-type {\n",
       "        vertical-align: middle;\n",
       "    }\n",
       "\n",
       "    .dataframe tbody tr th {\n",
       "        vertical-align: top;\n",
       "    }\n",
       "\n",
       "    .dataframe thead th {\n",
       "        text-align: right;\n",
       "    }\n",
       "</style>\n",
       "<table border=\"1\" class=\"dataframe\">\n",
       "  <thead>\n",
       "    <tr style=\"text-align: right;\">\n",
       "      <th></th>\n",
       "      <th>Close</th>\n",
       "      <th>Dividends</th>\n",
       "      <th>cash</th>\n",
       "      <th>shares</th>\n",
       "      <th>balance</th>\n",
       "    </tr>\n",
       "    <tr>\n",
       "      <th>Date</th>\n",
       "      <th></th>\n",
       "      <th></th>\n",
       "      <th></th>\n",
       "      <th></th>\n",
       "      <th></th>\n",
       "    </tr>\n",
       "  </thead>\n",
       "  <tbody>\n",
       "    <tr>\n",
       "      <th>2012-08-09</th>\n",
       "      <td>95.102859</td>\n",
       "      <td>0.37857</td>\n",
       "      <td>0</td>\n",
       "      <td>82.836687</td>\n",
       "      <td>7878.005727</td>\n",
       "    </tr>\n",
       "    <tr>\n",
       "      <th>2012-11-07</th>\n",
       "      <td>82.093999</td>\n",
       "      <td>0.37857</td>\n",
       "      <td>0</td>\n",
       "      <td>83.218682</td>\n",
       "      <td>6831.754364</td>\n",
       "    </tr>\n",
       "    <tr>\n",
       "      <th>2013-02-07</th>\n",
       "      <td>63.095716</td>\n",
       "      <td>0.37857</td>\n",
       "      <td>0</td>\n",
       "      <td>83.717988</td>\n",
       "      <td>5282.246386</td>\n",
       "    </tr>\n",
       "    <tr>\n",
       "      <th>2013-05-09</th>\n",
       "      <td>62.285856</td>\n",
       "      <td>0.43571</td>\n",
       "      <td>0</td>\n",
       "      <td>84.303623</td>\n",
       "      <td>5250.923304</td>\n",
       "    </tr>\n",
       "    <tr>\n",
       "      <th>2013-08-08</th>\n",
       "      <td>69.265116</td>\n",
       "      <td>0.43571</td>\n",
       "      <td>0</td>\n",
       "      <td>84.833932</td>\n",
       "      <td>5876.032191</td>\n",
       "    </tr>\n",
       "  </tbody>\n",
       "</table>\n",
       "</div>"
      ],
      "text/plain": [
       "                Close  Dividends  cash     shares      balance\n",
       "Date                                                          \n",
       "2012-08-09  95.102859    0.37857     0  82.836687  7878.005727\n",
       "2012-11-07  82.093999    0.37857     0  83.218682  6831.754364\n",
       "2013-02-07  63.095716    0.37857     0  83.717988  5282.246386\n",
       "2013-05-09  62.285856    0.43571     0  84.303623  5250.923304\n",
       "2013-08-08  69.265116    0.43571     0  84.833932  5876.032191"
      ]
     },
     "execution_count": 7,
     "metadata": {},
     "output_type": "execute_result"
    }
   ],
   "source": [
    "stock.investment_data[stock.investment_data['Dividends']>0].head()"
   ]
  },
  {
   "cell_type": "code",
   "execution_count": null,
   "metadata": {},
   "outputs": [],
   "source": []
  },
  {
   "cell_type": "code",
   "execution_count": 6,
   "metadata": {},
   "outputs": [
    {
     "data": {
      "text/plain": [
       "<matplotlib.axes._subplots.AxesSubplot at 0x7f656726aba8>"
      ]
     },
     "execution_count": 6,
     "metadata": {},
     "output_type": "execute_result"
    },
    {
     "data": {
      "image/png": "[encoded data removed]",
      "text/plain": [
       "<Figure size 432x288 with 1 Axes>"
      ]
     },
     "metadata": {
      "needs_background": "light"
     },
     "output_type": "display_data"
    }
   ],
   "source": [
    "stock.investment_data[['Close']].plot()"
   ]
  },
  {
   "cell_type": "code",
   "execution_count": 8,
   "metadata": {},
   "outputs": [
    {
     "data": {
      "text/plain": [
       "<matplotlib.axes._subplots.AxesSubplot at 0x7f65648ac278>"
      ]
     },
     "execution_count": 8,
     "metadata": {},
     "output_type": "execute_result"
    },
    {
     "data": {
      "image/png": "[encoded data removed]",
      "text/plain": [
       "<Figure size 432x288 with 1 Axes>"
      ]
     },
     "metadata": {
      "needs_background": "light"
     },
     "output_type": "display_data"
    }
   ],
   "source": [
    "stock.investment_data[['balance']].plot()"
   ]
  },
  {
   "cell_type": "code",
   "execution_count": null,
   "metadata": {},
   "outputs": [],
   "source": []
  }
 ],
 "metadata": {
  "kernelspec": {
   "display_name": "Python 3",
   "language": "python",
   "name": "python3"
  },
  "language_info": {
   "codemirror_mode": {
    "name": "ipython",
    "version": 3
   },
   "file_extension": ".py",
   "mimetype": "text/x-python",
   "name": "python",
   "nbconvert_exporter": "python",
   "pygments_lexer": "ipython3",
   "version": "3.7.3"
  }
 },
 "nbformat": 4,
 "nbformat_minor": 4
}
