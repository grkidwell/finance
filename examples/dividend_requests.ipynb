{
 "cells": [
  {
   "cell_type": "code",
   "execution_count": 1,
   "metadata": {},
   "outputs": [],
   "source": [
    "from datetime import datetime, timedelta\n",
    "import time, requests, pandas, lxml\n",
    "from lxml import html"
   ]
  },
  {
   "cell_type": "code",
   "execution_count": 2,
   "metadata": {},
   "outputs": [],
   "source": [
    "def format_date(date_datetime):\n",
    "    date_timetuple = date_datetime.timetuple()\n",
    "    date_mktime = time.mktime(date_timetuple)\n",
    "    date_int = int(date_mktime)\n",
    "    date_str = str(date_int)\n",
    "    return date_str\n",
    "\n",
    "def subdomain(symbol, start, end):\n",
    "    format_url = \"{0}/history?period1={1}&period2={2}\"\n",
    "    tail_url =  \"&interval=div%7Csplit&filter=div&frequency=1d\"\n",
    "    url = format_url.format(symbol, start, end) + tail_url\n",
    "    return url\n",
    "\n",
    "def header(subdomain):\n",
    "    hdrs = {\"authority\": \"finance.yahoo.com\",\n",
    "                \"method\": \"GET\",\n",
    "                \"path\": subdomain,\n",
    "                \"scheme\": \"https\",\n",
    "                \"accept\": \"text/html,application/xhtml+xml\",\n",
    "                \"accept-encoding\": \"gzip, deflate, br\",\n",
    "                \"accept-language\": \"en-US,en;q=0.9\",\n",
    "                \"cache-control\": \"no-cache\",\n",
    "                \"cookie\": \"cookies\",\n",
    "                \"dnt\": \"1\",\n",
    "                \"pragma\": \"no-cache\",\n",
    "                \"sec-fetch-mode\": \"navigate\",\n",
    "                \"sec-fetch-site\": \"same-origin\",\n",
    "                \"sec-fetch-user\": \"?1\",\n",
    "                \"upgrade-insecure-requests\": \"1\",\n",
    "                \"user-agent\": \"Mozilla/5.0\"}\n",
    "    return hdrs\n",
    "\n",
    "def scrape_page(url, header):\n",
    "    page = requests.get(url, headers=header)\n",
    "    element_html = html.fromstring(page.content)\n",
    "    table = element_html.xpath('//table')\n",
    "    table_tree = lxml.etree.tostring(table[0], method='xml')\n",
    "    panda = pandas.read_html(table_tree)\n",
    "    return panda\n",
    "     \n",
    "def clean_dividends(symbol, dividends):\n",
    "    index = len(dividends)\n",
    "    dividends = dividends.drop(index-1)\n",
    "    dividends = dividends.set_index('Date')\n",
    "    dividends = dividends['Dividends']\n",
    "    dividends = dividends.str.replace(r'\\Dividend', '')\n",
    "    dividends = dividends.astype(float)\n",
    "    dividends.name = symbol\n",
    "    return dividends\n",
    "\n",
    "def div_output(symbol):\n",
    "    start = format_date(datetime.today() - timedelta(days=9125))\n",
    "    end   = format_date(datetime.today())\n",
    "    sub = subdomain(symbol, start, end)\n",
    "    hdrs = header(sub)\n",
    "    base_url = \"https://finance.yahoo.com/quote/\"\n",
    "    url = base_url + sub\n",
    "    dividends = scrape_page(url, hdrs)\n",
    "    return dividends #clean_dividends(symbol, dividends[0])"
   ]
  },
  {
   "cell_type": "code",
   "execution_count": 3,
   "metadata": {},
   "outputs": [],
   "source": [
    "aapl=div_output('aapl')\n"
   ]
  },
  {
   "cell_type": "code",
   "execution_count": 4,
   "metadata": {},
   "outputs": [
    {
     "data": {
      "text/plain": [
       "[                                                Date  \\\n",
       " 0  *Close price adjusted for splits.**Adjusted cl...   \n",
       " \n",
       "                                            Dividends  \n",
       " 0  *Close price adjusted for splits.**Adjusted cl...  ]"
      ]
     },
     "execution_count": 4,
     "metadata": {},
     "output_type": "execute_result"
    }
   ],
   "source": [
    "aapl"
   ]
  },
  {
   "cell_type": "code",
   "execution_count": 5,
   "metadata": {},
   "outputs": [],
   "source": [
    "apple=div_output('aapl')"
   ]
  },
  {
   "cell_type": "code",
   "execution_count": 6,
   "metadata": {},
   "outputs": [
    {
     "data": {
      "text/plain": [
       "[                                                Date  \\\n",
       " 0  *Close price adjusted for splits.**Adjusted cl...   \n",
       " \n",
       "                                            Dividends  \n",
       " 0  *Close price adjusted for splits.**Adjusted cl...  ]"
      ]
     },
     "execution_count": 6,
     "metadata": {},
     "output_type": "execute_result"
    }
   ],
   "source": [
    "apple"
   ]
  },
  {
   "cell_type": "code",
   "execution_count": null,
   "metadata": {},
   "outputs": [],
   "source": []
  }
 ],
 "metadata": {
  "kernelspec": {
   "display_name": "Python 3",
   "language": "python",
   "name": "python3"
  },
  "language_info": {
   "codemirror_mode": {
    "name": "ipython",
    "version": 3
   },
   "file_extension": ".py",
   "mimetype": "text/x-python",
   "name": "python",
   "nbconvert_exporter": "python",
   "pygments_lexer": "ipython3",
   "version": "3.10.4"
  }
 },
 "nbformat": 4,
 "nbformat_minor": 4
}
